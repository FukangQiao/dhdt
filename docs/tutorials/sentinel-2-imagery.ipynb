{
 "cells": [
  {
   "cell_type": "markdown",
   "id": "hired-density",
   "metadata": {},
   "source": [
    "# Search for Sentinel-2 data from the Copernicus Open Access Hub"
   ]
  },
  {
   "cell_type": "markdown",
   "id": "5a78798b-5c0d-4dac-9aeb-9881906b2c2e",
   "metadata": {},
   "source": [
    "In this notebook we query the [Copernicus Open Access Hub API](https://scihub.copernicus.eu) for the Sentinel-2 scenes intersecting a glacier geometry, as extracted from the [Randolph Glacier Inventory (RGI)](http://www.glims.org/RGI/)."
   ]
  },
  {
   "cell_type": "code",
   "execution_count": 19,
   "id": "0d39ef78-e6a1-4f5b-8b5d-5d4f11057534",
   "metadata": {
    "tags": []
   },
   "outputs": [],
   "source": [
    "import getpass\n",
    "import os\n",
    "\n",
    "import geojson\n",
    "import geopandas as gpd\n",
    "import pandas as pd\n",
    "import sentinelsat\n",
    "import shapely.geometry\n",
    "\n",
    "from dhdt.auxilary.handler_randolph import download_rgi"
   ]
  },
  {
   "cell_type": "markdown",
   "id": "regulated-commons",
   "metadata": {},
   "source": [
    "## Define the area-of-interest (AOI) using the RGI"
   ]
  },
  {
   "cell_type": "markdown",
   "id": "750f1930-91f4-43ee-b782-98914f0a2f61",
   "metadata": {},
   "source": [
    "We define the coordinates of a point on the glacier of interest and download the corresponding RGI files:"
   ]
  },
  {
   "cell_type": "code",
   "execution_count": 2,
   "id": "53878a89-8462-4598-8209-21b30a7b82c8",
   "metadata": {
    "tags": []
   },
   "outputs": [],
   "source": [
    "# Brintnell-Bologna Icefield (Northwest Territories)\n",
    "lat = 62.09862204\n",
    "lon = -127.9693738\n",
    "\n",
    "# download RGI files, get the path to the shapefiles\n",
    "rgi_paths = download_rgi(\n",
    "    aoi=(lat, lon), \n",
    "    rgi_dir=\"./data/RGI\"\n",
    ")"
   ]
  },
  {
   "cell_type": "markdown",
   "id": "2502e0ab-1f6e-431d-8de5-fe0cb4ad5e88",
   "metadata": {},
   "source": [
    "We load the RGI region as a `GeoDataFrame` and identify the glacier by intersecting it with the defined point:"
   ]
  },
  {
   "cell_type": "code",
   "execution_count": 3,
   "id": "d5c6bb2a-6211-401d-8f2e-b1f69de8b250",
   "metadata": {
    "tags": []
   },
   "outputs": [],
   "source": [
    "point = shapely.geometry.Point(lon, lat)\n",
    "glaciers = pd.concat([gpd.read_file(p) for p in rgi_paths])\n",
    "mask = glaciers.intersects(point)\n",
    "glacier = glaciers[mask]"
   ]
  },
  {
   "cell_type": "code",
   "execution_count": 4,
   "id": "58ec34c5-fe0b-4775-af3f-50a00603d5f7",
   "metadata": {
    "tags": []
   },
   "outputs": [
    {
     "data": {
      "image/png": "[encoded data removed]",
      "text/plain": [
       "<Figure size 640x480 with 1 Axes>"
      ]
     },
     "metadata": {},
     "output_type": "display_data"
    }
   ],
   "source": [
    "# plot out the glacier\n",
    "ax = glacier.plot()\n",
    "ax.set_axis_off()"
   ]
  },
  {
   "cell_type": "markdown",
   "id": "21eea74a-84c8-4897-b764-2d486a4e4fb4",
   "metadata": {},
   "source": [
    "Finally, we extract the glacier's geometry to setup the query:"
   ]
  },
  {
   "cell_type": "code",
   "execution_count": 5,
   "id": "be9afb78-6eb6-4c39-8c95-f70a8f05ae0f",
   "metadata": {
    "tags": []
   },
   "outputs": [],
   "source": [
    "glacier_geometry = glacier.geometry.squeeze()"
   ]
  },
  {
   "cell_type": "markdown",
   "id": "2af10823-24f6-4e02-bfe8-d887c0426280",
   "metadata": {},
   "source": [
    "## Copernicus Open Access Hub"
   ]
  },
  {
   "cell_type": "markdown",
   "id": "7cd6248f-b119-418f-82e1-7c3cf4d42ca6",
   "metadata": {},
   "source": [
    "We set the credentials to access Copernicus Open Access Hub (register at [this link](https://scihub.copernicus.eu/userguide/SelfRegistration)):"
   ]
  },
  {
   "cell_type": "code",
   "execution_count": 6,
   "id": "3844ae04-9fd7-42c2-a6fd-b65e818eea8b",
   "metadata": {},
   "outputs": [
    {
     "name": "stdin",
     "output_type": "stream",
     "text": [
      "username ········\n",
      "password ········\n"
     ]
    }
   ],
   "source": [
    "username = getpass.getpass(\"username\")\n",
    "password = getpass.getpass(\"password\")"
   ]
  },
  {
   "cell_type": "markdown",
   "id": "3477ebe9-a2e2-42e3-bd14-0c3e2eb20ec2",
   "metadata": {},
   "source": [
    "The API endpoint is available at the following link:"
   ]
  },
  {
   "cell_type": "code",
   "execution_count": 7,
   "id": "8d56ce51-0e56-4c0a-b2a8-ecab0c873998",
   "metadata": {},
   "outputs": [],
   "source": [
    "api_url = \"https://apihub.copernicus.eu/apihub\""
   ]
  },
  {
   "cell_type": "markdown",
   "id": "83cb71f4-ee7e-4fec-912a-59c313529d0c",
   "metadata": {},
   "source": [
    "## Imagery search with Sentinelsat"
   ]
  },
  {
   "cell_type": "markdown",
   "id": "rapid-bristol",
   "metadata": {},
   "source": [
    "We look for the Sentinel-2 scenes that contains the AOI, using [Sentinelsat](https://github.com/sentinelsat/sentinelsat) to query the Copernicus API:"
   ]
  },
  {
   "cell_type": "code",
   "execution_count": 10,
   "id": "secure-luxury",
   "metadata": {},
   "outputs": [],
   "source": [
    "api = sentinelsat.SentinelAPI(\n",
    "    user=username, \n",
    "    password=password, \n",
    "    api_url=api_url,\n",
    "    show_progressbars=False,\n",
    ")"
   ]
  },
  {
   "cell_type": "markdown",
   "id": "deadly-cradle",
   "metadata": {},
   "source": [
    "In dhdt we use images processed at **Level-1C** (L1C, top-of-atmosphere reflectance). We use the envelope of the glacier geometry to define the area of interest and consider scenes with an estimated cloud coverage up to 70%:  "
   ]
  },
  {
   "cell_type": "code",
   "execution_count": 13,
   "id": "558f0464-2686-4c45-9ef7-3bce562bbccf",
   "metadata": {},
   "outputs": [],
   "source": [
    "area = glacier_geometry.envelope.wkt\n",
    "\n",
    "scenes_l1c = api.query(\n",
    "    platformname=\"Sentinel-2\",\n",
    "    producttype=\"S2MSI1C\",\n",
    "    area=area,\n",
    "    area_relation=\"Contains\",\n",
    "    cloudcoverpercentage=(0, 70),\n",
    ")"
   ]
  },
  {
   "cell_type": "markdown",
   "id": "b4b9e796-57c2-4e0a-a63d-1929f0ce1e24",
   "metadata": {
    "tags": []
   },
   "source": [
    "We then look for the corresponding scenes processed at **Level-2A** (L2A, bottom-of-atmosphere reflectance), which include a scene classification layer that will allow us to mask out clouds. \n",
    "\n",
    "First we query for all L2A scenes matching our AOI:"
   ]
  },
  {
   "cell_type": "code",
   "execution_count": 14,
   "id": "250f1b9c-2c3b-4ec8-9813-d9e2479593d4",
   "metadata": {},
   "outputs": [],
   "source": [
    "scenes_l2a = api.query(\n",
    "    platformname=\"Sentinel-2\",\n",
    "    producttype=\"S2MSI2A\",\n",
    "    area=area,\n",
    "    area_relation=\"Contains\",\n",
    ")"
   ]
  },
  {
   "cell_type": "markdown",
   "id": "e3a0b0c1-a084-4892-86e0-2177888da221",
   "metadata": {
    "tags": []
   },
   "source": [
    "We then look for the L2A scenes for which we have the corresponding L1C scenes: "
   ]
  },
  {
   "cell_type": "code",
   "execution_count": 15,
   "id": "77ee95d5-fa47-40a6-b651-616a01223b88",
   "metadata": {
    "tags": []
   },
   "outputs": [],
   "source": [
    "# convert search results to GeoDataFrames\n",
    "gdf_l1c = api.to_geodataframe(scenes_l1c)\n",
    "gdf_l2a = api.to_geodataframe(scenes_l2a)\n",
    "\n",
    "# match scene records\n",
    "merged = gdf_l1c.merge(\n",
    "    gdf_l2a.dropna(subset=\"level1cpdiidentifier\"),\n",
    "    how=\"left\", \n",
    "    on=\"level1cpdiidentifier\", \n",
    "    validate=\"1:1\",\n",
    "    suffixes=[\"_L1C\", \"_L2A\"]\n",
    ")\n",
    "\n",
    "# extract IDs of the L2A scenes matching L1C ones\n",
    "uuid_l2a = merged[\"uuid_L2A\"].dropna().values\n",
    "\n",
    "# get corresponding L2A scenes\n",
    "scenes_l2a_matched = {uuid: scenes_l2a[uuid] for uuid in uuid_l2a}"
   ]
  },
  {
   "cell_type": "markdown",
   "id": "6685da00-58dc-4ced-b5da-868bce16c1f1",
   "metadata": {},
   "source": [
    "Print number of selected scenes:"
   ]
  },
  {
   "cell_type": "code",
   "execution_count": 16,
   "id": "038b78c4-9c18-4d62-9d4a-3525ff023bb4",
   "metadata": {
    "tags": []
   },
   "outputs": [
    {
     "data": {
      "text/plain": [
       "(486, 321)"
      ]
     },
     "execution_count": 16,
     "metadata": {},
     "output_type": "execute_result"
    }
   ],
   "source": [
    "len(scenes_l1c), len(scenes_l2a_matched)"
   ]
  },
  {
   "cell_type": "markdown",
   "id": "2a9e0b11-314f-43d4-a335-cf6a27b7b86e",
   "metadata": {
    "tags": []
   },
   "source": [
    "Finally we convert the search results to GeoJSON, and write out the corresponding files:"
   ]
  },
  {
   "cell_type": "code",
   "execution_count": 20,
   "id": "3748c594-f005-431b-8e64-1374789e22eb",
   "metadata": {
    "tags": []
   },
   "outputs": [],
   "source": [
    "def write_to_file(api, scenes, filepath):\n",
    "    \n",
    "    # create directory if it does not exists\n",
    "    dirname = os.path.dirname(filepath)\n",
    "    os.makedirs(dirname, exist_ok=True)\n",
    "    \n",
    "    with open(filepath, \"w\") as f:\n",
    "        feature_collection = api.to_geojson(scenes)\n",
    "        geojson.dump(feature_collection, f)   "
   ]
  },
  {
   "cell_type": "code",
   "execution_count": 22,
   "id": "8e584916-620d-4105-8e0b-00aa19c1443e",
   "metadata": {
    "tags": []
   },
   "outputs": [],
   "source": [
    "write_to_file(\n",
    "    api, \n",
    "    scenes_l1c, \n",
    "    \"./data/sentinel-2/sentinel2-l1c.json\"\n",
    ")\n",
    "write_to_file(\n",
    "    api, \n",
    "    scenes_l2a_matched, \n",
    "    \"./data/sentinel-2/sentinel2-l2a.json\"\n",
    ")"
   ]
  },
  {
   "cell_type": "markdown",
   "id": "44fea288-bb06-4bb3-93b3-9e02506bb4e1",
   "metadata": {},
   "source": [
    "## Imagery download"
   ]
  },
  {
   "cell_type": "markdown",
   "id": "92bf395f-2a91-40e3-b457-3f8c2c5da4f0",
   "metadata": {},
   "source": [
    "Sentinelsat also provides tools to download Sentinel data products from the Copernicus Open Access Hub. However, only the most recent images (last 12 months) are kept online, while older images are moved to the [Long Term Archive (LTA)](https://sentinels.copernicus.eu/web/sentinel/-/activation-of-long-term-archive-lta-access-for-copernicus-sentinel-2-and-3). Users can request images to be brought online, with a daily quota."
   ]
  },
  {
   "cell_type": "markdown",
   "id": "772fc754-39a5-40f8-84d4-a45da880d275",
   "metadata": {},
   "source": [
    "Alternative sources of Sentinel-2 imagery are:\n",
    "- The [Sentinel-2 Open Data collection on AWS](https://registry.opendata.aws/sentinel-2-l2a-cogs/). Data can be discovered via the [Earth Search](https://stacindex.org/catalogs/earth-search#/) SpatioTemporal Asset Catalog (STAC) API. This collection offers free L2A data products converted to cloud-optimized GeoTIFFs. \n",
    "- The [Sentinel-2 public dataset](https://cloud.google.com/storage/docs/public-datasets/sentinel-2) that is made available as a [bucket](https://console.cloud.google.com/storage/browser/gcp-public-data-sentinel-2) on Google Cloud Storage (GCS). Complete L1C and L2A datasets are available in the original format, including the full set of metadadata files."
   ]
  },
  {
   "cell_type": "markdown",
   "id": "9e76667d-1d83-42b6-bee0-67f2fd211ac1",
   "metadata": {},
   "source": [
    "[Here](https://github.com/GO-Eratosthenes/dhdt/tree/master/scripts/sentinel-2-imagery) we provide a script to convert the Sentinelsat search results to STAC, linking the most relevant Sentinel-2 data products to the corresponding files on GCS. The same script also allows to retrieve these assets.  "
   ]
  }
 ],
 "metadata": {
  "kernelspec": {
   "display_name": "Python 3 (ipykernel)",
   "language": "python",
   "name": "python3"
  },
  "language_info": {
   "codemirror_mode": {
    "name": "ipython",
    "version": 3
   },
   "file_extension": ".py",
   "mimetype": "text/x-python",
   "name": "python",
   "nbconvert_exporter": "python",
   "pygments_lexer": "ipython3",
   "version": "3.11.0"
  }
 },
 "nbformat": 4,
 "nbformat_minor": 5
}
