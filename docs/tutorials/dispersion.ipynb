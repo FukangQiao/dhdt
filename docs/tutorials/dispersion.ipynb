{
 "cells": [
  {
   "cell_type": "markdown",
   "id": "e5b3e5be",
   "metadata": {},
   "source": [
    "# Estimating the dispersion of image matching displacements\n",
    "Functions and algorithms within the **dhdt** framework are for a large part dependent upon pattern matching. When such algorithms are formulated as a convolution, the cross-correlation function can have the form of a peak. The width of the peak can then be used as a proxy for precision.\n",
    "\n",
    "Such a describtor of precision is of interest when information is extracted from such a velocity field. Since errors will propagate in any derived product. In the following, an example is given from a dataset of two images of Sentinel-2 over a large outlet glacier in Greenland. \n",
    "\n",
    "This work is a demonstration of the basic functionality, and a more detailed describtion can be found in [Altena et al. 2021](https://doi.org/10.5194/tc-2021-202).\n",
    "\n",
    "### import of libraries\n",
    "First we need to import some generic libraries"
   ]
  },
  {
   "cell_type": "code",
   "execution_count": 5,
   "id": "2be4c058",
   "metadata": {},
   "outputs": [],
   "source": [
    "import os\n",
    "import urllib\n",
    "import numpy as np\n",
    "import matplotlib.pyplot as plt"
   ]
  },
  {
   "cell_type": "markdown",
   "id": "75b06bbf",
   "metadata": {},
   "source": [
    "import specific libraries"
   ]
  },
  {
   "cell_type": "code",
   "execution_count": 8,
   "id": "be473bf6",
   "metadata": {},
   "outputs": [
    {
     "ename": "ModuleNotFoundError",
     "evalue": "No module named 'dhdt'",
     "output_type": "error",
     "traceback": [
      "\u001b[0;31m---------------------------------------------------------------------------\u001b[0m",
      "\u001b[0;31mModuleNotFoundError\u001b[0m                       Traceback (most recent call last)",
      "Input \u001b[0;32mIn [8]\u001b[0m, in \u001b[0;36m<cell line: 1>\u001b[0;34m()\u001b[0m\n\u001b[0;32m----> 1\u001b[0m \u001b[38;5;28;01mfrom\u001b[39;00m \u001b[38;5;21;01mdhdt\u001b[39;00m\u001b[38;5;21;01m.\u001b[39;00m\u001b[38;5;21;01mgeneric\u001b[39;00m\u001b[38;5;21;01m.\u001b[39;00m\u001b[38;5;21;01mmapping_io\u001b[39;00m \u001b[38;5;28;01mimport\u001b[39;00m read_geo_image, read_geo_info\n",
      "\u001b[0;31mModuleNotFoundError\u001b[0m: No module named 'dhdt'"
     ]
    }
   ],
   "source": [
    "from dhdt.generic.mapping_io import read_geo_image, read_geo_info \n",
    "from dhdt.generic.mapping_io import read_geo_image, read_geo_info "
   ]
  },
  {
   "cell_type": "markdown",
   "id": "2225f881",
   "metadata": {},
   "source": [
    "### data preparation\n",
    "The satellite data is situated in the cloud (pun intended), but these can be downloaded to a local drive. Hence the following code sniplet looks if such data is already available, if not it is downloaded."
   ]
  },
  {
   "cell_type": "code",
   "execution_count": 6,
   "id": "18a4ade5",
   "metadata": {},
   "outputs": [
    {
     "ename": "NameError",
     "evalue": "name 'rgi_name' is not defined",
     "output_type": "error",
     "traceback": [
      "\u001b[0;31m---------------------------------------------------------------------------\u001b[0m",
      "\u001b[0;31mNameError\u001b[0m                                 Traceback (most recent call last)",
      "Input \u001b[0;32mIn [6]\u001b[0m, in \u001b[0;36m<cell line: 8>\u001b[0;34m()\u001b[0m\n\u001b[1;32m      5\u001b[0m I2_name \u001b[38;5;241m=\u001b[39m \u001b[38;5;124m'\u001b[39m\u001b[38;5;124mT22WEB_20200720T151911_B04_clip.jp2\u001b[39m\u001b[38;5;124m'\u001b[39m\n\u001b[1;32m      7\u001b[0m \u001b[38;5;66;03m# do downloading if files are not present\u001b[39;00m\n\u001b[0;32m----> 8\u001b[0m \u001b[38;5;28;01mif\u001b[39;00m \u001b[38;5;129;01mnot\u001b[39;00m os\u001b[38;5;241m.\u001b[39mpath\u001b[38;5;241m.\u001b[39mexists(os\u001b[38;5;241m.\u001b[39mpath\u001b[38;5;241m.\u001b[39mjoin(dat_dir, \u001b[43mrgi_name\u001b[49m)):\n\u001b[1;32m      9\u001b[0m     file_grab \u001b[38;5;241m=\u001b[39m urllib\u001b[38;5;241m.\u001b[39mURLopener()\n\u001b[1;32m     10\u001b[0m     \u001b[38;5;28mprint\u001b[39m(\u001b[38;5;124m'\u001b[39m\u001b[38;5;124mbusy downloading files\u001b[39m\u001b[38;5;124m'\u001b[39m) \u001b[38;5;66;03m# dowload Sentinel-2 L1C imagery data\u001b[39;00m\n",
      "\u001b[0;31mNameError\u001b[0m: name 'rgi_name' is not defined"
     ]
    }
   ],
   "source": [
    "dat_dir = '/Users/Alten005/dump-dir'\n",
    "dat_url = 'https://surfdrive.surf.nl/files/index.php/s/7filDMbYkxiavk3'\n",
    "\n",
    "I1_name = 'T22WEB_20200730T151921_B04_clip.jp2'\n",
    "I2_name = 'T22WEB_20200720T151911_B04_clip.jp2'\n",
    "\n",
    "# do downloading if files are not present\n",
    "if not os.path.exists(os.path.join(dat_dir, I1_name)):\n",
    "    file_grab = urllib.URLopener()\n",
    "    print('busy downloading files') # dowload Sentinel-2 L1C imagery data\n",
    "    file_grab.retrieve(os.path.join(dat_url, I1_name),\n",
    "                       os.path.join(dat_dir, I1_))\n",
    "    file_grab.retrieve(os.path.join(dat_url, I2_name),\n",
    "                       os.path.join(dat_dir, I2_name))\n",
    "    print('files dowloaded')\n",
    "else:\n",
    "    print('files are already present')"
   ]
  },
  {
   "cell_type": "markdown",
   "id": "a0b6bde7",
   "metadata": {},
   "source": [
    "### main processing\n",
    "The imagery will be matched, here certain parameters should be given."
   ]
  },
  {
   "cell_type": "code",
   "execution_count": 9,
   "id": "31cc819d",
   "metadata": {},
   "outputs": [],
   "source": [
    "temp_radius,sear_radius = 10, 40"
   ]
  },
  {
   "cell_type": "markdown",
   "id": "29d12f5c",
   "metadata": {},
   "source": [
    "Now it is possible to read the imagery"
   ]
  },
  {
   "cell_type": "code",
   "execution_count": null,
   "id": "50af8723",
   "metadata": {},
   "outputs": [],
   "source": [
    "I1 = read_geo_image(os.path.join(dat_dir, I1_name))[0]\n",
    "I2 = read_geo_image(os.path.join(dat_dir, I2_name))[0]"
   ]
  },
  {
   "cell_type": "markdown",
   "id": "4f413ff5",
   "metadata": {},
   "source": [
    "### post-processing\n",
    "The advantage of a formulation for dispersion can be found in the estimation of product quality through error propagation. Hence in the this later part, the estimated co-variances will be used to help reflect upon the data quality of calculated strain rates.\n",
    "\n",
    "Strain rates are of interest to glaciologists, as ice can behave both as a viscous fluid, as well as, a brittle material. Typically, when a specific extensive force is applied, a crevasse will emerge. "
   ]
  },
  {
   "cell_type": "code",
   "execution_count": null,
   "id": "d4e683cc",
   "metadata": {},
   "outputs": [],
   "source": []
  }
 ],
 "metadata": {
  "kernelspec": {
   "display_name": "Python 3 (ipykernel)",
   "language": "python",
   "name": "python3"
  },
  "language_info": {
   "codemirror_mode": {
    "name": "ipython",
    "version": 3
   },
   "file_extension": ".py",
   "mimetype": "text/x-python",
   "name": "python",
   "nbconvert_exporter": "python",
   "pygments_lexer": "ipython3",
   "version": "3.8.12"
  }
 },
 "nbformat": 4,
 "nbformat_minor": 5
}
